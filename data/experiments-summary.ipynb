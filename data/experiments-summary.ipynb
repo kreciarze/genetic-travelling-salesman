{
 "cells": [
  {
   "cell_type": "code",
   "execution_count": 1,
   "metadata": {},
   "outputs": [],
   "source": [
    "import os\n",
    "import pandas as pd"
   ]
  },
  {
   "cell_type": "code",
   "execution_count": 2,
   "metadata": {},
   "outputs": [],
   "source": [
    "def get_problems_from_dirs():\n",
    "    problems = []\n",
    "    for f in os.listdir('.'):\n",
    "        if '.' not in f:\n",
    "            problems.append(f)\n",
    "    return problems\n",
    "\n",
    "available_problems = get_problems_from_dirs()\n",
    "available_problems\n",
    "\n",
    "available_problems = [\"easy\", \"bays29\", \"berlin52\", \"eil101\", \"xqf131\"]"
   ]
  },
  {
   "cell_type": "code",
   "execution_count": 3,
   "metadata": {},
   "outputs": [],
   "source": [
    "def get_value_from_file(file, string):\n",
    "    with open(file, 'r') as f:\n",
    "        for line in f:\n",
    "            if string in line:\n",
    "                value_location = line.find(string) + len(string)\n",
    "                return line[value_location:].strip()\n",
    "    return None\n",
    "\n",
    "problem_name = available_problems[3]\n",
    "tsp_file_path = f\"{problem_name}/{problem_name}.tour\"\n",
    "get_value_from_file(tsp_file_path, 'COMMENT: Tour length')"
   ]
  },
  {
   "cell_type": "code",
   "execution_count": 4,
   "metadata": {},
   "outputs": [
    {
     "data": {
      "text/plain": [
       "{'problem_name': 'eil101',\n",
       " 'time_elapsed': '375.34 [s]',\n",
       " 'optimal_tour_length': '629',\n",
       " 'dim': '101',\n",
       " 'tour_length': '911.0381'}"
      ]
     },
     "execution_count": 4,
     "metadata": {},
     "output_type": "execute_result"
    }
   ],
   "source": [
    "stats_tuples = {\n",
    "    ('.tsp', 'DIMENSION :', 'dim'),\n",
    "    ('.tour', 'COMMENT : Tour length', 'optimal_tour_length'), \n",
    "    ('_solution.tour', 'COMMENT : Tour length: ', 'tour_length'),\n",
    "    ('_solution.tour', 'COMMENT : Time elapsed: ', 'time_elapsed')\n",
    "}\n",
    "\n",
    "def get_problem_stats(problem_name, file_key_map):\n",
    "    stats = {}\n",
    "    stats['problem_name'] = problem_name\n",
    "    for file, str_key, key in file_key_map:\n",
    "        file_path = f\"{problem_name}/{problem_name}{file}\"\n",
    "        value = get_value_from_file(file_path, str_key)\n",
    "        stats[key] = value\n",
    "    return stats\n",
    "\n",
    "get_problem_stats(problem_name, stats_tuples)"
   ]
  },
  {
   "cell_type": "code",
   "execution_count": 5,
   "metadata": {},
   "outputs": [
    {
     "data": {
      "text/html": [
       "<div>\n",
       "<style scoped>\n",
       "    .dataframe tbody tr th:only-of-type {\n",
       "        vertical-align: middle;\n",
       "    }\n",
       "\n",
       "    .dataframe tbody tr th {\n",
       "        vertical-align: top;\n",
       "    }\n",
       "\n",
       "    .dataframe thead th {\n",
       "        text-align: right;\n",
       "    }\n",
       "</style>\n",
       "<table border=\"1\" class=\"dataframe\">\n",
       "  <thead>\n",
       "    <tr style=\"text-align: right;\">\n",
       "      <th></th>\n",
       "      <th>dim</th>\n",
       "      <th>optimal_tour_length</th>\n",
       "      <th>tour_length</th>\n",
       "      <th>tour_length_ratio</th>\n",
       "      <th>time_elapsed</th>\n",
       "    </tr>\n",
       "    <tr>\n",
       "      <th>problem_name</th>\n",
       "      <th></th>\n",
       "      <th></th>\n",
       "      <th></th>\n",
       "      <th></th>\n",
       "      <th></th>\n",
       "    </tr>\n",
       "  </thead>\n",
       "  <tbody>\n",
       "    <tr>\n",
       "      <th>easy</th>\n",
       "      <td>6</td>\n",
       "      <td>12.17</td>\n",
       "      <td>12.17</td>\n",
       "      <td>1.00</td>\n",
       "      <td>2.55</td>\n",
       "    </tr>\n",
       "    <tr>\n",
       "      <th>bays29</th>\n",
       "      <td>29</td>\n",
       "      <td>2020.00</td>\n",
       "      <td>2344.00</td>\n",
       "      <td>1.16</td>\n",
       "      <td>40.67</td>\n",
       "    </tr>\n",
       "    <tr>\n",
       "      <th>berlin52</th>\n",
       "      <td>52</td>\n",
       "      <td>7542.00</td>\n",
       "      <td>10191.40</td>\n",
       "      <td>1.35</td>\n",
       "      <td>54.64</td>\n",
       "    </tr>\n",
       "    <tr>\n",
       "      <th>eil101</th>\n",
       "      <td>101</td>\n",
       "      <td>629.00</td>\n",
       "      <td>911.04</td>\n",
       "      <td>1.45</td>\n",
       "      <td>375.34</td>\n",
       "    </tr>\n",
       "    <tr>\n",
       "      <th>xqf131</th>\n",
       "      <td>131</td>\n",
       "      <td>564.00</td>\n",
       "      <td>2046.89</td>\n",
       "      <td>3.63</td>\n",
       "      <td>197.33</td>\n",
       "    </tr>\n",
       "  </tbody>\n",
       "</table>\n",
       "</div>"
      ],
      "text/plain": [
       "              dim  optimal_tour_length  tour_length  tour_length_ratio  \\\n",
       "problem_name                                                             \n",
       "easy            6                12.17        12.17               1.00   \n",
       "bays29         29              2020.00      2344.00               1.16   \n",
       "berlin52       52              7542.00     10191.40               1.35   \n",
       "eil101        101               629.00       911.04               1.45   \n",
       "xqf131        131               564.00      2046.89               3.63   \n",
       "\n",
       "              time_elapsed  \n",
       "problem_name                \n",
       "easy                  2.55  \n",
       "bays29               40.67  \n",
       "berlin52             54.64  \n",
       "eil101              375.34  \n",
       "xqf131              197.33  "
      ]
     },
     "execution_count": 5,
     "metadata": {},
     "output_type": "execute_result"
    }
   ],
   "source": [
    "problem_stats = []\n",
    "\n",
    "for problem_name in available_problems:\n",
    "    problem_stats.append(get_problem_stats(problem_name, stats_tuples))\n",
    "\n",
    "df = pd.DataFrame(problem_stats)\n",
    "df['dim'] = df['dim'].astype(int)\n",
    "df['optimal_tour_length'] = df['optimal_tour_length'].astype(float)\n",
    "df['tour_length'] = df['tour_length'].astype(float).round(2)\n",
    "df['time_elapsed'] = df['time_elapsed'].str.replace('[s]', '').str.strip().astype(float)\n",
    "df['tour_length_ratio'] = (df['tour_length'] / df['optimal_tour_length']).round(2)\n",
    "df.set_index('problem_name', inplace=True)\n",
    "df = df[['dim', 'optimal_tour_length', 'tour_length', 'tour_length_ratio', 'time_elapsed']]\n",
    "\n",
    "df"
   ]
  }
 ],
 "metadata": {
  "kernelspec": {
   "display_name": "de",
   "language": "python",
   "name": "python3"
  },
  "language_info": {
   "codemirror_mode": {
    "name": "ipython",
    "version": 3
   },
   "file_extension": ".py",
   "mimetype": "text/x-python",
   "name": "python",
   "nbconvert_exporter": "python",
   "pygments_lexer": "ipython3",
   "version": "3.10.10"
  }
 },
 "nbformat": 4,
 "nbformat_minor": 2
}
